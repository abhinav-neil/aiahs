{
 "cells": [
  {
   "cell_type": "markdown",
   "metadata": {},
   "source": [
    "## Setup"
   ]
  },
  {
   "cell_type": "markdown",
   "metadata": {},
   "source": [
    "### Imports"
   ]
  },
  {
   "cell_type": "code",
   "execution_count": 4,
   "metadata": {},
   "outputs": [
    {
     "name": "stderr",
     "output_type": "stream",
     "text": [
      "/opt/conda/envs/aiahs/lib/python3.11/site-packages/tqdm/auto.py:21: TqdmWarning: IProgress not found. Please update jupyter and ipywidgets. See https://ipywidgets.readthedocs.io/en/stable/user_install.html\n",
      "  from .autonotebook import tqdm as notebook_tqdm\n"
     ]
    }
   ],
   "source": [
    "import os\n",
    "import numpy as np\n",
    "import pandas as pd\n",
    "from tqdm import tqdm\n",
    "import torch\n",
    "from src.api_eooh import *\n",
    "from src.utils import *\n",
    "\n",
    "%load_ext autoreload\n",
    "%autoreload 2"
   ]
  },
  {
   "cell_type": "code",
   "execution_count": 5,
   "metadata": {},
   "outputs": [
    {
     "name": "stdout",
     "output_type": "stream",
     "text": [
      "using device: cuda\n"
     ]
    }
   ],
   "source": [
    "# set device\n",
    "device = 'cuda' if torch.cuda.is_available() else 'cpu'\n",
    "print(f'using device: {device}')"
   ]
  },
  {
   "cell_type": "markdown",
   "metadata": {},
   "source": [
    "#### Add 'split' col to dataset"
   ]
  },
  {
   "cell_type": "code",
   "execution_count": 12,
   "metadata": {},
   "outputs": [
    {
     "name": "stdout",
     "output_type": "stream",
     "text": [
      "split\n",
      "train    19826\n",
      "test      2479\n",
      "val       2478\n",
      "Name: count, dtype: int64\n"
     ]
    }
   ],
   "source": [
    "%%script false --no-raise-error\n",
    "# Read the dataset\n",
    "dataset = pd.read_csv('data/hs_davidson2017.csv')\n",
    "\n",
    "# Set the random seed for reproducibility\n",
    "np.random.seed(42)\n",
    "\n",
    "# Shuffle the dataset\n",
    "shuffled_dataset = dataset.sample(frac=1, random_state=42)\n",
    "\n",
    "# Calculate the exact number of rows for each split\n",
    "num_train = int(0.8 * len(dataset))\n",
    "num_val = int(0.1 * len(dataset))\n",
    "# The remaining rows will be assigned to 'test'\n",
    "\n",
    "# Assign 'train', 'val', or 'test' based on the row index\n",
    "shuffled_dataset['split'] = 'test'\n",
    "shuffled_dataset.iloc[:num_train, shuffled_dataset.columns.get_loc('split')] = 'train'\n",
    "shuffled_dataset.iloc[num_train:num_train+num_val, shuffled_dataset.columns.get_loc('split')] = 'val'\n",
    "\n",
    "# If you want the dataset in its original order, you can sort it by its index\n",
    "dataset_with_split = shuffled_dataset.sort_index()\n",
    "\n",
    "# Check the distribution of the splits\n",
    "print(dataset_with_split['split'].value_counts(normalize=False))\n",
    "\n",
    "# Save the updated dataset if needed\n",
    "dataset_with_split.to_csv('data/hs_davidson2017.csv', index=False)\n"
   ]
  },
  {
   "cell_type": "markdown",
   "metadata": {},
   "source": [
    "## Manage channels"
   ]
  },
  {
   "cell_type": "code",
   "execution_count": 8,
   "metadata": {},
   "outputs": [
    {
     "name": "stdout",
     "output_type": "stream",
     "text": [
      "channel name: LGBTQ, uid: 648dcd4b3708dcf1b65d70e9\n"
     ]
    }
   ],
   "source": [
    "# get paths\n",
    "paths = get_paths()\n",
    "# list channels \n",
    "my_channels = request_api(requests.get, paths.my_channels).json()\n",
    "# print(my_channels)\n",
    "channel = my_channels[0]\n",
    "channel_path = f\"/channel/{channel['uid']}\"\n",
    "channel_data = request_api(requests.get, channel_path).json()"
   ]
  },
  {
   "cell_type": "markdown",
   "metadata": {},
   "source": [
    "### Download channel data"
   ]
  }
 ],
 "metadata": {
  "kernelspec": {
   "display_name": "aiahs",
   "language": "python",
   "name": "python3"
  },
  "language_info": {
   "codemirror_mode": {
    "name": "ipython",
    "version": 3
   },
   "file_extension": ".py",
   "mimetype": "text/x-python",
   "name": "python",
   "nbconvert_exporter": "python",
   "pygments_lexer": "ipython3",
   "version": "3.11.4"
  },
  "orig_nbformat": 4
 },
 "nbformat": 4,
 "nbformat_minor": 2
}
