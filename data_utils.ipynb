{
 "cells": [
  {
   "cell_type": "markdown",
   "metadata": {},
   "source": [
    "## Setup"
   ]
  },
  {
   "cell_type": "markdown",
   "metadata": {},
   "source": [
    "### Imports"
   ]
  },
  {
   "cell_type": "code",
   "execution_count": 2,
   "metadata": {},
   "outputs": [
    {
     "name": "stdout",
     "output_type": "stream",
     "text": [
      "The autoreload extension is already loaded. To reload it, use:\n",
      "  %reload_ext autoreload\n"
     ]
    }
   ],
   "source": [
    "import os\n",
    "import numpy as np\n",
    "import pandas as pd\n",
    "from tqdm import tqdm\n",
    "import torch\n",
    "import datasets\n",
    "import pandas as pd\n",
    "from sklearn.model_selection import train_test_split\n",
    "from src.api_eooh import *\n",
    "from src.data_utils import *\n",
    "\n",
    "%load_ext autoreload\n",
    "%autoreload 2"
   ]
  },
  {
   "cell_type": "code",
   "execution_count": 2,
   "metadata": {},
   "outputs": [
    {
     "name": "stdout",
     "output_type": "stream",
     "text": [
      "using device: cuda\n"
     ]
    }
   ],
   "source": [
    "# set device\n",
    "device = 'cuda' if torch.cuda.is_available() else 'cpu'\n",
    "print(f'using device: {device}')"
   ]
  },
  {
   "cell_type": "markdown",
   "metadata": {},
   "source": [
    "## Davidson"
   ]
  },
  {
   "cell_type": "markdown",
   "metadata": {},
   "source": [
    "### Preprocess data"
   ]
  },
  {
   "cell_type": "code",
   "execution_count": 11,
   "metadata": {},
   "outputs": [
    {
     "name": "stdout",
     "output_type": "stream",
     "text": [
      "total # of samples: 24783\n",
      "class\n",
      "1    19190\n",
      "2     4163\n",
      "0     1430\n",
      "Name: count, dtype: int64\n"
     ]
    }
   ],
   "source": [
    "# Read the dataset\n",
    "df_david = pd.read_csv('data/hs_davidson2017.csv')\n",
    "\n",
    "print(f'total # of samples: {len(df_david)}')\n",
    "# print(df_hs.hate_speech.value_counts())\n",
    "# print(df_hs.offensive_language.value_counts())\n",
    "print(df_david['class'].value_counts())\n",
    "\n",
    "# rename cols & create 'label' col\n",
    "df_david = df_david.rename(columns={'tweet': 'text'})\n",
    "df_david['label'] = df_david['class'].apply(lambda x: 1 if x == 0 else 0)  # binary indicator of hate_speech or not\n",
    "\n",
    "# save to csv\n",
    "df_david.to_csv('data/davidson_hs.csv', index=False)"
   ]
  },
  {
   "cell_type": "markdown",
   "metadata": {},
   "source": [
    "## UCB"
   ]
  },
  {
   "cell_type": "markdown",
   "metadata": {},
   "source": [
    "### Preprocess UCB data"
   ]
  },
  {
   "cell_type": "code",
   "execution_count": 10,
   "metadata": {},
   "outputs": [
    {
     "name": "stdout",
     "output_type": "stream",
     "text": [
      "# samples: 39565, # unique comment_id: 39565\n"
     ]
    }
   ],
   "source": [
    "# Load the dataset and convert to pandas DataFrame\n",
    "ucb_dataset = datasets.load_dataset('ucberkeley-dlab/measuring-hate-speech', 'binary')\n",
    "df_ucb = ucb_dataset['train'].to_pandas()\n",
    "\n",
    "# create hs label\n",
    "df_ucb['label'] = (df_ucb['hate_speech_score'] > 0.5).astype(int)\n",
    "\n",
    "# list of columns to retain\n",
    "cols_to_retain = [\n",
    "    'comment_id', 'sentiment', 'respect', 'insult', 'humiliate', 'status',\n",
    "    'dehumanize', 'violence', 'genocide', 'attack_defend', 'hatespeech',\n",
    "    'hate_speech_score', 'text'\n",
    "]\n",
    "\n",
    "# filter the dataset\n",
    "df_ucb = df_ucb[cols_to_retain]\n",
    "\n",
    "# # check if 'comment_id' is unique\n",
    "# print(f'# samples: {len(df_ucb)}, # unique comment_id: {len(df_ucb.comment_id.unique())}')\n",
    "\n",
    "# aggregate scores from diff annotators per comment_id\n",
    "# Define custom aggregation methods\n",
    "agg_methods = {col: 'mean' if df_ucb[col].dtype != 'object' else 'first' for col in df_ucb.columns if col != 'comment_id'}\n",
    "\n",
    "# group by 'comment_id' and aggregate\n",
    "df_ucb = df_ucb.groupby('comment_id').agg(agg_methods).reset_index()\n",
    "\n",
    "print(f'# samples: {len(df_ucb)}, # unique comment_id: {len(df_ucb.comment_id.unique())}')\n",
    "\n",
    "# create ordinal label from 'hate_speech_score'\n",
    "df_ucb['label'] = (df_ucb['hate_speech_score'] > 0.5).astype(int)\n",
    "# Split the data into train, validation, and test sets\n",
    "train_df, temp_df = train_test_split(df_ucb, test_size=0.2, random_state=42, stratify=df_ucb['label'])\n",
    "val_df, test_df = train_test_split(temp_df, test_size=0.5, random_state=42, stratify=temp_df['label'])\n",
    "\n",
    "# add 'split' column to each DataFrame\n",
    "train_df['split'] = 'train'\n",
    "val_df['split'] = 'val'\n",
    "test_df['split'] = 'test'\n",
    "\n",
    "# concatenate the DataFrames and save to a file\n",
    "df_ucb_w_splits = pd.concat([train_df, val_df, test_df])\n",
    "df_ucb_w_splits.to_csv('data/ucb_hs.csv', index=False)"
   ]
  },
  {
   "cell_type": "code",
   "execution_count": 12,
   "metadata": {},
   "outputs": [
    {
     "data": {
      "text/plain": [
       "label\n",
       "0    29211\n",
       "1    10354\n",
       "Name: count, dtype: int64"
      ]
     },
     "execution_count": 12,
     "metadata": {},
     "output_type": "execute_result"
    }
   ],
   "source": [
    "df_ucb_w_splits['label'].value_counts()"
   ]
  },
  {
   "cell_type": "markdown",
   "metadata": {},
   "source": [
    "## EOOH"
   ]
  },
  {
   "cell_type": "markdown",
   "metadata": {},
   "source": [
    "### Download channel data"
   ]
  },
  {
   "cell_type": "code",
   "execution_count": 3,
   "metadata": {},
   "outputs": [
    {
     "name": "stdout",
     "output_type": "stream",
     "text": [
      "channel name: LGBTQ, channel uid: 648dcd4b3708dcf1b65d70e9\n",
      "{'success': True}\n"
     ]
    }
   ],
   "source": [
    "# get paths\n",
    "paths = get_paths()\n",
    "\n",
    "# list channels \n",
    "my_channels = request_api(requests.get, paths.my_channels).json()\n",
    "# print(my_channels)\n",
    "channel = my_channels[0]\n",
    "print(f'channel name: {channel[\"name\"]}, channel uid: {channel[\"uid\"]}')\n",
    "\n",
    "# download channel\n",
    "response = download_channel(channel['uid'])\n",
    "print(response)"
   ]
  }
 ],
 "metadata": {
  "kernelspec": {
   "display_name": "aiahs",
   "language": "python",
   "name": "python3"
  },
  "language_info": {
   "codemirror_mode": {
    "name": "ipython",
    "version": 3
   },
   "file_extension": ".py",
   "mimetype": "text/x-python",
   "name": "python",
   "nbconvert_exporter": "python",
   "pygments_lexer": "ipython3",
   "version": "3.11.4"
  },
  "orig_nbformat": 4
 },
 "nbformat": 4,
 "nbformat_minor": 2
}
